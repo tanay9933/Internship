{
 "cells": [
  {
   "cell_type": "code",
   "execution_count": null,
   "id": "e5a63dd9",
   "metadata": {},
   "outputs": [],
   "source": []
  },
  {
   "cell_type": "code",
   "execution_count": null,
   "id": "65d06764",
   "metadata": {},
   "outputs": [],
   "source": []
  },
  {
   "cell_type": "markdown",
   "id": "08cccaf0",
   "metadata": {},
   "source": [
    "# Importing Packages"
   ]
  },
  {
   "cell_type": "code",
   "execution_count": 154,
   "id": "e30c73fa",
   "metadata": {},
   "outputs": [],
   "source": [
    "import pandas as pd\n",
    "import selenium\n",
    "from selenium import webdriver\n",
    "from selenium.webdriver.common.by import By\n",
    "import requests\n",
    "import re\n",
    "\n",
    "import warnings\n",
    "warnings.filterwarnings ('ignore')"
   ]
  },
  {
   "cell_type": "code",
   "execution_count": null,
   "id": "2ebd549a",
   "metadata": {},
   "outputs": [],
   "source": []
  },
  {
   "cell_type": "code",
   "execution_count": null,
   "id": "a67f05e1",
   "metadata": {},
   "outputs": [],
   "source": []
  },
  {
   "cell_type": "markdown",
   "id": "c366b818",
   "metadata": {},
   "source": [
    "# Connecting to WEBDRIVER"
   ]
  },
  {
   "cell_type": "code",
   "execution_count": 155,
   "id": "8fc7962b",
   "metadata": {},
   "outputs": [],
   "source": [
    "driver = webdriver.Chrome(r'C:\\Users\\rjhcl\\Desktop\\web driver\\chromedriver.exe')"
   ]
  },
  {
   "cell_type": "code",
   "execution_count": null,
   "id": "26ef3acd",
   "metadata": {},
   "outputs": [],
   "source": []
  },
  {
   "cell_type": "code",
   "execution_count": null,
   "id": "2e2f487c",
   "metadata": {},
   "outputs": [],
   "source": []
  },
  {
   "cell_type": "markdown",
   "id": "b3fd7c7f",
   "metadata": {},
   "source": [
    "# Opening IMDB"
   ]
  },
  {
   "cell_type": "code",
   "execution_count": 156,
   "id": "6543d2ce",
   "metadata": {},
   "outputs": [],
   "source": [
    "url = \"https://www.imdb.com/list/ls095964455/\"\n",
    "driver.get(url)"
   ]
  },
  {
   "cell_type": "code",
   "execution_count": null,
   "id": "02d9d902",
   "metadata": {},
   "outputs": [],
   "source": []
  },
  {
   "cell_type": "code",
   "execution_count": null,
   "id": "66e68b5d",
   "metadata": {},
   "outputs": [],
   "source": []
  },
  {
   "cell_type": "markdown",
   "id": "110710da",
   "metadata": {},
   "source": [
    "# Create Empty LIST"
   ]
  },
  {
   "cell_type": "code",
   "execution_count": 157,
   "id": "005473d1",
   "metadata": {},
   "outputs": [],
   "source": [
    "Nam = []\n",
    "Name = []\n",
    "Year = []\n",
    "Year_span = []\n",
    "Genre = []\n",
    "Run_time = []\n",
    "\n",
    "Ratings = []\n",
    "Votes = []"
   ]
  },
  {
   "cell_type": "markdown",
   "id": "eed72e29",
   "metadata": {},
   "source": [
    "A) Name\n",
    "B) Year span\n",
    "C) Genre\n",
    "D) Run time\n",
    "E) Ratings\n",
    "F) Votes"
   ]
  },
  {
   "cell_type": "code",
   "execution_count": null,
   "id": "094e9507",
   "metadata": {},
   "outputs": [],
   "source": []
  },
  {
   "cell_type": "code",
   "execution_count": null,
   "id": "687ba238",
   "metadata": {},
   "outputs": [],
   "source": []
  },
  {
   "cell_type": "code",
   "execution_count": null,
   "id": "6c688e44",
   "metadata": {},
   "outputs": [],
   "source": []
  },
  {
   "cell_type": "markdown",
   "id": "d1d2e240",
   "metadata": {},
   "source": [
    "# SCRAPING the Data"
   ]
  },
  {
   "cell_type": "code",
   "execution_count": 107,
   "id": "73430dea",
   "metadata": {},
   "outputs": [],
   "source": [
    "nam = driver.find_elements(By.XPATH,'//h3[@class=\"lister-item-header\"]')\n",
    "for i in nam:\n",
    "    Nam.append(i.text.split('(')[0])\n",
    "for i in Nam:\n",
    "    Name.append(i.split('.')[1])    "
   ]
  },
  {
   "cell_type": "code",
   "execution_count": 108,
   "id": "cbdb05fc",
   "metadata": {},
   "outputs": [],
   "source": [
    "year = driver.find_elements(By.XPATH,'//h3[@class=\"lister-item-header\"]')\n",
    "for i in year:\n",
    "    Year.append(i.text.split('(')[1])\n",
    "for i in Year:\n",
    "    Year_span.append(i.split(')')[0])    "
   ]
  },
  {
   "cell_type": "code",
   "execution_count": 109,
   "id": "cbc35f8a",
   "metadata": {},
   "outputs": [],
   "source": [
    "genre = driver.find_elements(By.XPATH,'//span[@class=\"genre\"]')\n",
    "for i in genre:\n",
    "    Genre.append(i.text)"
   ]
  },
  {
   "cell_type": "code",
   "execution_count": 110,
   "id": "bcbe9868",
   "metadata": {},
   "outputs": [],
   "source": [
    "run_time = driver.find_elements(By.XPATH,'//span[@class=\"runtime\"]')\n",
    "for i in run_time:\n",
    "    Run_time.append(i.text)"
   ]
  },
  {
   "cell_type": "code",
   "execution_count": null,
   "id": "4827f208",
   "metadata": {},
   "outputs": [],
   "source": []
  },
  {
   "cell_type": "code",
   "execution_count": null,
   "id": "d31e041e",
   "metadata": {},
   "outputs": [],
   "source": []
  },
  {
   "cell_type": "code",
   "execution_count": null,
   "id": "acb153c8",
   "metadata": {},
   "outputs": [],
   "source": []
  },
  {
   "cell_type": "code",
   "execution_count": null,
   "id": "e754bb72",
   "metadata": {},
   "outputs": [],
   "source": []
  },
  {
   "cell_type": "markdown",
   "id": "57a8a969",
   "metadata": {},
   "source": [
    "# Checking LENGTH of the LISTS"
   ]
  },
  {
   "cell_type": "code",
   "execution_count": 111,
   "id": "d86b819a",
   "metadata": {},
   "outputs": [
    {
     "name": "stdout",
     "output_type": "stream",
     "text": [
      "100 100 100 100\n"
     ]
    }
   ],
   "source": [
    "print(len(Name), len(Year_span), len(Genre), len(Run_time))"
   ]
  },
  {
   "cell_type": "code",
   "execution_count": null,
   "id": "00c88cb6",
   "metadata": {},
   "outputs": [],
   "source": []
  },
  {
   "cell_type": "code",
   "execution_count": null,
   "id": "f15572b1",
   "metadata": {},
   "outputs": [],
   "source": []
  },
  {
   "cell_type": "markdown",
   "id": "82928179",
   "metadata": {},
   "source": [
    "# Creating the DATAFRAME"
   ]
  },
  {
   "cell_type": "code",
   "execution_count": 112,
   "id": "eae96e44",
   "metadata": {},
   "outputs": [
    {
     "data": {
      "text/html": [
       "<div>\n",
       "<style scoped>\n",
       "    .dataframe tbody tr th:only-of-type {\n",
       "        vertical-align: middle;\n",
       "    }\n",
       "\n",
       "    .dataframe tbody tr th {\n",
       "        vertical-align: top;\n",
       "    }\n",
       "\n",
       "    .dataframe thead th {\n",
       "        text-align: right;\n",
       "    }\n",
       "</style>\n",
       "<table border=\"1\" class=\"dataframe\">\n",
       "  <thead>\n",
       "    <tr style=\"text-align: right;\">\n",
       "      <th></th>\n",
       "      <th>Movie Name</th>\n",
       "      <th>Year Span</th>\n",
       "      <th>Genre</th>\n",
       "      <th>Run Time</th>\n",
       "    </tr>\n",
       "  </thead>\n",
       "  <tbody>\n",
       "    <tr>\n",
       "      <th>0</th>\n",
       "      <td>Game of Thrones</td>\n",
       "      <td>2011–2019</td>\n",
       "      <td>Action, Adventure, Drama</td>\n",
       "      <td>57 min</td>\n",
       "    </tr>\n",
       "    <tr>\n",
       "      <th>1</th>\n",
       "      <td>Stranger Things</td>\n",
       "      <td>2016–2024</td>\n",
       "      <td>Drama, Fantasy, Horror</td>\n",
       "      <td>51 min</td>\n",
       "    </tr>\n",
       "    <tr>\n",
       "      <th>2</th>\n",
       "      <td>The Walking Dead</td>\n",
       "      <td>2010–2022</td>\n",
       "      <td>Drama, Horror, Thriller</td>\n",
       "      <td>44 min</td>\n",
       "    </tr>\n",
       "    <tr>\n",
       "      <th>3</th>\n",
       "      <td>13 Reasons Why</td>\n",
       "      <td>2017–2020</td>\n",
       "      <td>Drama, Mystery, Thriller</td>\n",
       "      <td>60 min</td>\n",
       "    </tr>\n",
       "    <tr>\n",
       "      <th>4</th>\n",
       "      <td>The 100</td>\n",
       "      <td>2014–2020</td>\n",
       "      <td>Drama, Mystery, Sci-Fi</td>\n",
       "      <td>43 min</td>\n",
       "    </tr>\n",
       "    <tr>\n",
       "      <th>...</th>\n",
       "      <td>...</td>\n",
       "      <td>...</td>\n",
       "      <td>...</td>\n",
       "      <td>...</td>\n",
       "    </tr>\n",
       "    <tr>\n",
       "      <th>95</th>\n",
       "      <td>Reign</td>\n",
       "      <td>2013–2017</td>\n",
       "      <td>Drama</td>\n",
       "      <td>42 min</td>\n",
       "    </tr>\n",
       "    <tr>\n",
       "      <th>96</th>\n",
       "      <td>A Series of Unfortunate Events</td>\n",
       "      <td>2017–2019</td>\n",
       "      <td>Adventure, Comedy, Drama</td>\n",
       "      <td>50 min</td>\n",
       "    </tr>\n",
       "    <tr>\n",
       "      <th>97</th>\n",
       "      <td>Criminal Minds</td>\n",
       "      <td>2005–</td>\n",
       "      <td>Crime, Drama, Mystery</td>\n",
       "      <td>42 min</td>\n",
       "    </tr>\n",
       "    <tr>\n",
       "      <th>98</th>\n",
       "      <td>Scream: The TV Series</td>\n",
       "      <td>2015–2019</td>\n",
       "      <td>Comedy, Crime, Drama</td>\n",
       "      <td>45 min</td>\n",
       "    </tr>\n",
       "    <tr>\n",
       "      <th>99</th>\n",
       "      <td>The Haunting of Hill House</td>\n",
       "      <td>2018</td>\n",
       "      <td>Drama, Horror, Mystery</td>\n",
       "      <td>572 min</td>\n",
       "    </tr>\n",
       "  </tbody>\n",
       "</table>\n",
       "<p>100 rows × 4 columns</p>\n",
       "</div>"
      ],
      "text/plain": [
       "                          Movie Name  Year Span                     Genre  \\\n",
       "0                   Game of Thrones   2011–2019  Action, Adventure, Drama   \n",
       "1                   Stranger Things   2016–2024    Drama, Fantasy, Horror   \n",
       "2                  The Walking Dead   2010–2022   Drama, Horror, Thriller   \n",
       "3                    13 Reasons Why   2017–2020  Drama, Mystery, Thriller   \n",
       "4                           The 100   2014–2020    Drama, Mystery, Sci-Fi   \n",
       "..                               ...        ...                       ...   \n",
       "95                            Reign   2013–2017                     Drama   \n",
       "96   A Series of Unfortunate Events   2017–2019  Adventure, Comedy, Drama   \n",
       "97                   Criminal Minds      2005–      Crime, Drama, Mystery   \n",
       "98            Scream: The TV Series   2015–2019      Comedy, Crime, Drama   \n",
       "99       The Haunting of Hill House        2018    Drama, Horror, Mystery   \n",
       "\n",
       "   Run Time  \n",
       "0    57 min  \n",
       "1    51 min  \n",
       "2    44 min  \n",
       "3    60 min  \n",
       "4    43 min  \n",
       "..      ...  \n",
       "95   42 min  \n",
       "96   50 min  \n",
       "97   42 min  \n",
       "98   45 min  \n",
       "99  572 min  \n",
       "\n",
       "[100 rows x 4 columns]"
      ]
     },
     "execution_count": 112,
     "metadata": {},
     "output_type": "execute_result"
    }
   ],
   "source": [
    "df=pd.DataFrame({'Movie Name':Name, 'Year Span': Year_span, 'Genre': Genre, 'Run Time': Run_time})\n",
    "                 \n",
    "df"
   ]
  },
  {
   "cell_type": "code",
   "execution_count": null,
   "id": "271b63ee",
   "metadata": {},
   "outputs": [],
   "source": []
  },
  {
   "cell_type": "code",
   "execution_count": null,
   "id": "c061db43",
   "metadata": {},
   "outputs": [],
   "source": []
  },
  {
   "cell_type": "code",
   "execution_count": null,
   "id": "bb849b51",
   "metadata": {},
   "outputs": [],
   "source": []
  }
 ],
 "metadata": {
  "kernelspec": {
   "display_name": "Python 3 (ipykernel)",
   "language": "python",
   "name": "python3"
  },
  "language_info": {
   "codemirror_mode": {
    "name": "ipython",
    "version": 3
   },
   "file_extension": ".py",
   "mimetype": "text/x-python",
   "name": "python",
   "nbconvert_exporter": "python",
   "pygments_lexer": "ipython3",
   "version": "3.9.13"
  }
 },
 "nbformat": 4,
 "nbformat_minor": 5
}
