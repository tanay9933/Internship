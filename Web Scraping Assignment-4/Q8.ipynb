{
 "cells": [
  {
   "cell_type": "code",
   "execution_count": null,
   "id": "e5a63dd9",
   "metadata": {},
   "outputs": [],
   "source": []
  },
  {
   "cell_type": "code",
   "execution_count": null,
   "id": "65d06764",
   "metadata": {},
   "outputs": [],
   "source": []
  },
  {
   "cell_type": "markdown",
   "id": "08cccaf0",
   "metadata": {},
   "source": [
    "# Importing Packages"
   ]
  },
  {
   "cell_type": "code",
   "execution_count": 30,
   "id": "e30c73fa",
   "metadata": {},
   "outputs": [],
   "source": [
    "import pandas as pd\n",
    "import selenium\n",
    "from selenium import webdriver\n",
    "from selenium.webdriver.common.by import By\n",
    "import requests\n",
    "import re\n",
    "\n",
    "import warnings\n",
    "warnings.filterwarnings ('ignore')"
   ]
  },
  {
   "cell_type": "code",
   "execution_count": null,
   "id": "2ebd549a",
   "metadata": {},
   "outputs": [],
   "source": []
  },
  {
   "cell_type": "code",
   "execution_count": null,
   "id": "a67f05e1",
   "metadata": {},
   "outputs": [],
   "source": []
  },
  {
   "cell_type": "markdown",
   "id": "c366b818",
   "metadata": {},
   "source": [
    "# Connecting to WEBDRIVER"
   ]
  },
  {
   "cell_type": "code",
   "execution_count": 31,
   "id": "8fc7962b",
   "metadata": {},
   "outputs": [],
   "source": [
    "driver = webdriver.Chrome(r'C:\\Users\\rjhcl\\Desktop\\web driver\\chromedriver.exe')"
   ]
  },
  {
   "cell_type": "code",
   "execution_count": null,
   "id": "26ef3acd",
   "metadata": {},
   "outputs": [],
   "source": []
  },
  {
   "cell_type": "code",
   "execution_count": null,
   "id": "2e2f487c",
   "metadata": {},
   "outputs": [],
   "source": []
  },
  {
   "cell_type": "markdown",
   "id": "b3fd7c7f",
   "metadata": {},
   "source": [
    "# Opening Archive.ics.uci.edu"
   ]
  },
  {
   "cell_type": "code",
   "execution_count": 32,
   "id": "6543d2ce",
   "metadata": {},
   "outputs": [],
   "source": [
    "url = \"https://archive.ics.uci.edu/ml/datasets.php\"\n",
    "driver.get(url)"
   ]
  },
  {
   "cell_type": "code",
   "execution_count": null,
   "id": "02d9d902",
   "metadata": {},
   "outputs": [],
   "source": []
  },
  {
   "cell_type": "code",
   "execution_count": null,
   "id": "66e68b5d",
   "metadata": {},
   "outputs": [],
   "source": []
  },
  {
   "cell_type": "markdown",
   "id": "110710da",
   "metadata": {},
   "source": [
    "# Create Empty LIST"
   ]
  },
  {
   "cell_type": "code",
   "execution_count": 33,
   "id": "005473d1",
   "metadata": {},
   "outputs": [],
   "source": [
    "Dataset_name = []\n",
    "Data_type = []\n",
    "Task = []\n",
    "Attribute_type = []\n",
    "No_of_instances = []\n",
    "No_of_attribute = []\n",
    "Year = []"
   ]
  },
  {
   "cell_type": "code",
   "execution_count": null,
   "id": "094e9507",
   "metadata": {},
   "outputs": [],
   "source": []
  },
  {
   "cell_type": "code",
   "execution_count": null,
   "id": "687ba238",
   "metadata": {},
   "outputs": [],
   "source": []
  },
  {
   "cell_type": "markdown",
   "id": "d1d2e240",
   "metadata": {},
   "source": [
    "# SCRAPING the Data"
   ]
  },
  {
   "cell_type": "code",
   "execution_count": 34,
   "id": "73430dea",
   "metadata": {},
   "outputs": [],
   "source": [
    "rank = driver.find_elements(By.XPATH,'//table[@border=\"1\"][1]/tbody/tr/td[1]')\n",
    "for i in rank:\n",
    "    Dataset_name.append(i.text)"
   ]
  },
  {
   "cell_type": "code",
   "execution_count": 36,
   "id": "f51ba4e8",
   "metadata": {},
   "outputs": [],
   "source": [
    "name = driver.find_elements(By.XPATH,'//table[@border=\"1\"][1]/tbody/tr/td[2]')\n",
    "for i in name:\n",
    "    Data_type.append(i.text)"
   ]
  },
  {
   "cell_type": "code",
   "execution_count": 38,
   "id": "68e5dce9",
   "metadata": {},
   "outputs": [],
   "source": [
    "name = driver.find_elements(By.XPATH,'//table[@border=\"1\"][1]/tbody/tr/td[3]')\n",
    "for i in name:\n",
    "    Task.append(i.text)"
   ]
  },
  {
   "cell_type": "code",
   "execution_count": 40,
   "id": "af39c573",
   "metadata": {},
   "outputs": [],
   "source": [
    "name = driver.find_elements(By.XPATH,'//table[@border=\"1\"][1]/tbody/tr/td[4]')\n",
    "for i in name:\n",
    "    Attribute_type.append(i.text)"
   ]
  },
  {
   "cell_type": "code",
   "execution_count": 42,
   "id": "b672ec0c",
   "metadata": {},
   "outputs": [],
   "source": [
    "name = driver.find_elements(By.XPATH,'//table[@border=\"1\"][1]/tbody/tr/td[5]')\n",
    "for i in name:\n",
    "    No_of_instances.append(i.text)"
   ]
  },
  {
   "cell_type": "code",
   "execution_count": 44,
   "id": "1722611a",
   "metadata": {},
   "outputs": [],
   "source": [
    "name = driver.find_elements(By.XPATH,'//table[@border=\"1\"][1]/tbody/tr/td[6]')\n",
    "for i in name:\n",
    "    No_of_attribute.append(i.text)"
   ]
  },
  {
   "cell_type": "code",
   "execution_count": 46,
   "id": "7d97a001",
   "metadata": {},
   "outputs": [],
   "source": [
    "name = driver.find_elements(By.XPATH,'//table[@border=\"1\"][1]/tbody/tr/td[7]')\n",
    "for i in name:\n",
    "    Year.append(i.text)"
   ]
  },
  {
   "cell_type": "code",
   "execution_count": null,
   "id": "cd362516",
   "metadata": {},
   "outputs": [],
   "source": []
  },
  {
   "cell_type": "code",
   "execution_count": null,
   "id": "59f28674",
   "metadata": {},
   "outputs": [],
   "source": []
  },
  {
   "cell_type": "markdown",
   "id": "57a8a969",
   "metadata": {},
   "source": [
    "# Checking LENGTH of the LISTS"
   ]
  },
  {
   "cell_type": "code",
   "execution_count": 48,
   "id": "d86b819a",
   "metadata": {},
   "outputs": [
    {
     "name": "stdout",
     "output_type": "stream",
     "text": [
      "623 623 623 623 623 623 623\n"
     ]
    }
   ],
   "source": [
    "print(len(Dataset_name), len(Data_type), len(Task), len(Attribute_type), len(No_of_instances), len(No_of_attribute), len(Year))"
   ]
  },
  {
   "cell_type": "code",
   "execution_count": null,
   "id": "00c88cb6",
   "metadata": {},
   "outputs": [],
   "source": []
  },
  {
   "cell_type": "code",
   "execution_count": null,
   "id": "f15572b1",
   "metadata": {},
   "outputs": [],
   "source": []
  },
  {
   "cell_type": "markdown",
   "id": "82928179",
   "metadata": {},
   "source": [
    "# Creating the DATAFRAME"
   ]
  },
  {
   "cell_type": "code",
   "execution_count": 50,
   "id": "eae96e44",
   "metadata": {},
   "outputs": [
    {
     "data": {
      "text/html": [
       "<div>\n",
       "<style scoped>\n",
       "    .dataframe tbody tr th:only-of-type {\n",
       "        vertical-align: middle;\n",
       "    }\n",
       "\n",
       "    .dataframe tbody tr th {\n",
       "        vertical-align: top;\n",
       "    }\n",
       "\n",
       "    .dataframe thead th {\n",
       "        text-align: right;\n",
       "    }\n",
       "</style>\n",
       "<table border=\"1\" class=\"dataframe\">\n",
       "  <thead>\n",
       "    <tr style=\"text-align: right;\">\n",
       "      <th></th>\n",
       "      <th>Dataset</th>\n",
       "      <th>Type</th>\n",
       "      <th>Task</th>\n",
       "      <th>Attribute Type</th>\n",
       "      <th>No of Instances</th>\n",
       "      <th>No of Attribute</th>\n",
       "      <th>Year</th>\n",
       "    </tr>\n",
       "  </thead>\n",
       "  <tbody>\n",
       "    <tr>\n",
       "      <th>0</th>\n",
       "      <td>Name</td>\n",
       "      <td>Data Types</td>\n",
       "      <td>Default Task</td>\n",
       "      <td>Attribute Types</td>\n",
       "      <td># Instances</td>\n",
       "      <td># Attributes</td>\n",
       "      <td>Year</td>\n",
       "    </tr>\n",
       "    <tr>\n",
       "      <th>1</th>\n",
       "      <td>Abalone</td>\n",
       "      <td>Multivariate</td>\n",
       "      <td>Classification</td>\n",
       "      <td>Categorical, Integer, Real</td>\n",
       "      <td>4177</td>\n",
       "      <td>8</td>\n",
       "      <td>1995</td>\n",
       "    </tr>\n",
       "    <tr>\n",
       "      <th>2</th>\n",
       "      <td>Adult</td>\n",
       "      <td>Multivariate</td>\n",
       "      <td>Classification</td>\n",
       "      <td>Categorical, Integer</td>\n",
       "      <td>48842</td>\n",
       "      <td>14</td>\n",
       "      <td>1996</td>\n",
       "    </tr>\n",
       "    <tr>\n",
       "      <th>3</th>\n",
       "      <td>Annealing</td>\n",
       "      <td>Multivariate</td>\n",
       "      <td>Classification</td>\n",
       "      <td>Categorical, Integer, Real</td>\n",
       "      <td>798</td>\n",
       "      <td>38</td>\n",
       "      <td></td>\n",
       "    </tr>\n",
       "    <tr>\n",
       "      <th>4</th>\n",
       "      <td>Anonymous Microsoft Web Data</td>\n",
       "      <td></td>\n",
       "      <td>Recommender-Systems</td>\n",
       "      <td>Categorical</td>\n",
       "      <td>37711</td>\n",
       "      <td>294</td>\n",
       "      <td>1998</td>\n",
       "    </tr>\n",
       "    <tr>\n",
       "      <th>...</th>\n",
       "      <td>...</td>\n",
       "      <td>...</td>\n",
       "      <td>...</td>\n",
       "      <td>...</td>\n",
       "      <td>...</td>\n",
       "      <td>...</td>\n",
       "      <td>...</td>\n",
       "    </tr>\n",
       "    <tr>\n",
       "      <th>618</th>\n",
       "      <td>Influenza outbreak event prediction via Twit...</td>\n",
       "      <td>Multivariate</td>\n",
       "      <td>Classification</td>\n",
       "      <td>Integer, Real</td>\n",
       "      <td>75840</td>\n",
       "      <td>525</td>\n",
       "      <td>2020</td>\n",
       "    </tr>\n",
       "    <tr>\n",
       "      <th>619</th>\n",
       "      <td>Turkish Music Emotion Dataset</td>\n",
       "      <td>Multivariate</td>\n",
       "      <td>Classification</td>\n",
       "      <td>Integer, Real</td>\n",
       "      <td>400</td>\n",
       "      <td>50</td>\n",
       "      <td>2020</td>\n",
       "    </tr>\n",
       "    <tr>\n",
       "      <th>620</th>\n",
       "      <td>Maternal Health Risk Data Set</td>\n",
       "      <td></td>\n",
       "      <td>Classification</td>\n",
       "      <td></td>\n",
       "      <td>1014</td>\n",
       "      <td>7</td>\n",
       "      <td>2020</td>\n",
       "    </tr>\n",
       "    <tr>\n",
       "      <th>621</th>\n",
       "      <td>Room Occupancy Estimation</td>\n",
       "      <td>Multivariate, Time-Series</td>\n",
       "      <td>Classification</td>\n",
       "      <td>Real</td>\n",
       "      <td>10129</td>\n",
       "      <td>16</td>\n",
       "      <td>2021</td>\n",
       "    </tr>\n",
       "    <tr>\n",
       "      <th>622</th>\n",
       "      <td>Image Recognition Task Execution Times in Mo...</td>\n",
       "      <td>Univariate</td>\n",
       "      <td>Regression</td>\n",
       "      <td>Real</td>\n",
       "      <td>4000</td>\n",
       "      <td>2</td>\n",
       "      <td>2021</td>\n",
       "    </tr>\n",
       "  </tbody>\n",
       "</table>\n",
       "<p>623 rows × 7 columns</p>\n",
       "</div>"
      ],
      "text/plain": [
       "                                               Dataset  \\\n",
       "0                                                 Name   \n",
       "1                                              Abalone   \n",
       "2                                                Adult   \n",
       "3                                            Annealing   \n",
       "4                         Anonymous Microsoft Web Data   \n",
       "..                                                 ...   \n",
       "618    Influenza outbreak event prediction via Twit...   \n",
       "619                      Turkish Music Emotion Dataset   \n",
       "620                      Maternal Health Risk Data Set   \n",
       "621                          Room Occupancy Estimation   \n",
       "622    Image Recognition Task Execution Times in Mo...   \n",
       "\n",
       "                           Type                  Task  \\\n",
       "0                    Data Types          Default Task   \n",
       "1                 Multivariate        Classification    \n",
       "2                 Multivariate        Classification    \n",
       "3                 Multivariate        Classification    \n",
       "4                                Recommender-Systems    \n",
       "..                          ...                   ...   \n",
       "618               Multivariate        Classification    \n",
       "619               Multivariate        Classification    \n",
       "620                                   Classification    \n",
       "621  Multivariate, Time-Series        Classification    \n",
       "622                 Univariate            Regression    \n",
       "\n",
       "                  Attribute Type No of Instances No of Attribute   Year  \n",
       "0                Attribute Types     # Instances    # Attributes   Year  \n",
       "1    Categorical, Integer, Real            4177               8   1995   \n",
       "2          Categorical, Integer           48842              14   1996   \n",
       "3    Categorical, Integer, Real             798              38          \n",
       "4                   Categorical           37711             294   1998   \n",
       "..                           ...             ...             ...    ...  \n",
       "618               Integer, Real           75840             525   2020   \n",
       "619               Integer, Real             400              50   2020   \n",
       "620                                        1014               7   2020   \n",
       "621                        Real           10129              16   2021   \n",
       "622                        Real            4000               2   2021   \n",
       "\n",
       "[623 rows x 7 columns]"
      ]
     },
     "execution_count": 50,
     "metadata": {},
     "output_type": "execute_result"
    }
   ],
   "source": [
    "df=pd.DataFrame({'Dataset':Dataset_name, 'Type':Data_type, 'Task': Task, 'Attribute Type': Attribute_type, 'No of Instances': No_of_instances, 'No of Attribute': No_of_attribute, 'Year': Year})\n",
    "                 \n",
    "df"
   ]
  },
  {
   "cell_type": "code",
   "execution_count": null,
   "id": "d5fe72d6",
   "metadata": {},
   "outputs": [],
   "source": []
  },
  {
   "cell_type": "code",
   "execution_count": null,
   "id": "72662fb7",
   "metadata": {},
   "outputs": [],
   "source": []
  },
  {
   "cell_type": "code",
   "execution_count": null,
   "id": "f03c6947",
   "metadata": {},
   "outputs": [],
   "source": []
  },
  {
   "cell_type": "code",
   "execution_count": null,
   "id": "bb849b51",
   "metadata": {},
   "outputs": [],
   "source": []
  }
 ],
 "metadata": {
  "kernelspec": {
   "display_name": "Python 3 (ipykernel)",
   "language": "python",
   "name": "python3"
  },
  "language_info": {
   "codemirror_mode": {
    "name": "ipython",
    "version": 3
   },
   "file_extension": ".py",
   "mimetype": "text/x-python",
   "name": "python",
   "nbconvert_exporter": "python",
   "pygments_lexer": "ipython3",
   "version": "3.9.13"
  }
 },
 "nbformat": 4,
 "nbformat_minor": 5
}
