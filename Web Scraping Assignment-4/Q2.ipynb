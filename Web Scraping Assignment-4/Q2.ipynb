{
 "cells": [
  {
   "cell_type": "code",
   "execution_count": null,
   "id": "e5a63dd9",
   "metadata": {},
   "outputs": [],
   "source": []
  },
  {
   "cell_type": "code",
   "execution_count": null,
   "id": "65d06764",
   "metadata": {},
   "outputs": [],
   "source": []
  },
  {
   "cell_type": "markdown",
   "id": "08cccaf0",
   "metadata": {},
   "source": [
    "# Importing Packages"
   ]
  },
  {
   "cell_type": "code",
   "execution_count": 51,
   "id": "e30c73fa",
   "metadata": {},
   "outputs": [],
   "source": [
    "import pandas as pd\n",
    "import selenium\n",
    "from selenium import webdriver\n",
    "from selenium.webdriver.common.by import By\n",
    "import requests\n",
    "import re\n",
    "\n",
    "import warnings\n",
    "warnings.filterwarnings ('ignore')"
   ]
  },
  {
   "cell_type": "code",
   "execution_count": null,
   "id": "2ebd549a",
   "metadata": {},
   "outputs": [],
   "source": []
  },
  {
   "cell_type": "code",
   "execution_count": null,
   "id": "a67f05e1",
   "metadata": {},
   "outputs": [],
   "source": []
  },
  {
   "cell_type": "markdown",
   "id": "c366b818",
   "metadata": {},
   "source": [
    "# Connecting to WEBDRIVER"
   ]
  },
  {
   "cell_type": "code",
   "execution_count": 52,
   "id": "8fc7962b",
   "metadata": {},
   "outputs": [],
   "source": [
    "driver = webdriver.Chrome(r'C:\\Users\\rjhcl\\Desktop\\web driver\\chromedriver.exe')"
   ]
  },
  {
   "cell_type": "code",
   "execution_count": null,
   "id": "26ef3acd",
   "metadata": {},
   "outputs": [],
   "source": []
  },
  {
   "cell_type": "code",
   "execution_count": null,
   "id": "2e2f487c",
   "metadata": {},
   "outputs": [],
   "source": []
  },
  {
   "cell_type": "markdown",
   "id": "b3fd7c7f",
   "metadata": {},
   "source": [
    "# Opening BCCI"
   ]
  },
  {
   "cell_type": "code",
   "execution_count": 53,
   "id": "6543d2ce",
   "metadata": {},
   "outputs": [],
   "source": [
    "url = \"https://www.bcci.tv/international/fixtures\"\n",
    "driver.get(url)"
   ]
  },
  {
   "cell_type": "code",
   "execution_count": null,
   "id": "02d9d902",
   "metadata": {},
   "outputs": [],
   "source": []
  },
  {
   "cell_type": "code",
   "execution_count": null,
   "id": "66e68b5d",
   "metadata": {},
   "outputs": [],
   "source": []
  },
  {
   "cell_type": "markdown",
   "id": "110710da",
   "metadata": {},
   "source": [
    "# Create Empty LIST"
   ]
  },
  {
   "cell_type": "code",
   "execution_count": 54,
   "id": "005473d1",
   "metadata": {},
   "outputs": [],
   "source": [
    "Series = []\n",
    "Place = []\n",
    "Date = []\n",
    "Time = []"
   ]
  },
  {
   "cell_type": "code",
   "execution_count": null,
   "id": "ebd48901",
   "metadata": {},
   "outputs": [],
   "source": []
  },
  {
   "cell_type": "code",
   "execution_count": null,
   "id": "218fb74c",
   "metadata": {},
   "outputs": [],
   "source": []
  },
  {
   "cell_type": "markdown",
   "id": "d1d2e240",
   "metadata": {},
   "source": [
    "# SCRAPING the Data"
   ]
  },
  {
   "cell_type": "code",
   "execution_count": 55,
   "id": "73430dea",
   "metadata": {},
   "outputs": [],
   "source": [
    "series = driver.find_elements(By.XPATH,'//span[@class=\"ng-binding\"]')\n",
    "for i in series:\n",
    "    Series.append(i.text)"
   ]
  },
  {
   "cell_type": "code",
   "execution_count": 56,
   "id": "1c6468f9",
   "metadata": {},
   "outputs": [
    {
     "data": {
      "text/plain": [
       "['AUSTRALIA TOUR OF INDIA TEST SERIES 2022-23',\n",
       " 'ICC WOMENS T20 WORLD CUP 2023',\n",
       " 'ICC WOMENS T20 WORLD CUP 2023',\n",
       " 'AUSTRALIA TOUR OF INDIA TEST SERIES 2022-23',\n",
       " 'ICC WOMENS T20 WORLD CUP 2023',\n",
       " 'ICC WOMENS T20 WORLD CUP 2023',\n",
       " 'AUSTRALIA TOUR OF INDIA TEST SERIES 2022-23',\n",
       " 'AUSTRALIA TOUR OF INDIA TEST SERIES 2022-23']"
      ]
     },
     "execution_count": 56,
     "metadata": {},
     "output_type": "execute_result"
    }
   ],
   "source": [
    "Series"
   ]
  },
  {
   "cell_type": "code",
   "execution_count": 57,
   "id": "f51ba4e8",
   "metadata": {},
   "outputs": [],
   "source": [
    "place = driver.find_elements(By.XPATH,'//div[@class=\"fix-place ng-binding ng-scope\"]')\n",
    "for i in place:\n",
    "    Place.append(i.text.split('-')[1])"
   ]
  },
  {
   "cell_type": "code",
   "execution_count": 58,
   "id": "6c69a5f4",
   "metadata": {},
   "outputs": [
    {
     "data": {
      "text/plain": [
       "[' Vidarbha Cricket Association Stadium, Nagpur',\n",
       " ' Newlands, Cape Town',\n",
       " ' Newlands, Cape Town',\n",
       " ' Arun Jaitley Stadium, Delhi',\n",
       " \" St George's Park, Gqeberha\",\n",
       " \" St George's Park, Gqeberha\",\n",
       " ' Himachal Pradesh Cricket Association Stadium, Dharamsala',\n",
       " ' Narendra Modi Stadium, Ahmedabad']"
      ]
     },
     "execution_count": 58,
     "metadata": {},
     "output_type": "execute_result"
    }
   ],
   "source": [
    "Place"
   ]
  },
  {
   "cell_type": "code",
   "execution_count": 59,
   "id": "45319b58",
   "metadata": {},
   "outputs": [],
   "source": [
    "date = driver.find_elements(By.XPATH,'//h5[@class=\"ng-binding\"]')\n",
    "for i in date:\n",
    "    Date.append(i.text)"
   ]
  },
  {
   "cell_type": "code",
   "execution_count": 60,
   "id": "d9169850",
   "metadata": {},
   "outputs": [
    {
     "data": {
      "text/plain": [
       "['9 FEB 2023',\n",
       " '12 FEB 2023',\n",
       " '15 FEB 2023',\n",
       " '17 FEB 2023',\n",
       " '18 FEB 2023',\n",
       " '20 FEB 2023',\n",
       " '1 MAR 2023',\n",
       " '9 MAR 2023']"
      ]
     },
     "execution_count": 60,
     "metadata": {},
     "output_type": "execute_result"
    }
   ],
   "source": [
    "Date"
   ]
  },
  {
   "cell_type": "code",
   "execution_count": 61,
   "id": "4826c1f1",
   "metadata": {},
   "outputs": [],
   "source": [
    "time = driver.find_elements(By.XPATH,'//h5[@class=\"text-right ng-binding\"]')\n",
    "for i in time:\n",
    "    Time.append(i.text)"
   ]
  },
  {
   "cell_type": "code",
   "execution_count": 62,
   "id": "ac7488f4",
   "metadata": {},
   "outputs": [
    {
     "data": {
      "text/plain": [
       "['9:30 AM IST',\n",
       " '6:30 PM IST',\n",
       " '6:30 PM IST',\n",
       " '9:30 AM IST',\n",
       " '6:30 PM IST',\n",
       " '6:30 PM IST',\n",
       " '9:30 AM IST',\n",
       " '9:30 AM IST']"
      ]
     },
     "execution_count": 62,
     "metadata": {},
     "output_type": "execute_result"
    }
   ],
   "source": [
    "Time"
   ]
  },
  {
   "cell_type": "code",
   "execution_count": null,
   "id": "04fdea50",
   "metadata": {},
   "outputs": [],
   "source": []
  },
  {
   "cell_type": "code",
   "execution_count": null,
   "id": "246a4e55",
   "metadata": {},
   "outputs": [],
   "source": []
  },
  {
   "cell_type": "markdown",
   "id": "57a8a969",
   "metadata": {},
   "source": [
    "# Checking LENGTH of the LISTS"
   ]
  },
  {
   "cell_type": "code",
   "execution_count": 63,
   "id": "d86b819a",
   "metadata": {},
   "outputs": [
    {
     "name": "stdout",
     "output_type": "stream",
     "text": [
      "8 8 8 8\n"
     ]
    }
   ],
   "source": [
    "print(len(Series), len(Place), len(Date), len(Time))"
   ]
  },
  {
   "cell_type": "code",
   "execution_count": null,
   "id": "00c88cb6",
   "metadata": {},
   "outputs": [],
   "source": []
  },
  {
   "cell_type": "code",
   "execution_count": null,
   "id": "f15572b1",
   "metadata": {},
   "outputs": [],
   "source": []
  },
  {
   "cell_type": "markdown",
   "id": "82928179",
   "metadata": {},
   "source": [
    "# Creating the DATAFRAME"
   ]
  },
  {
   "cell_type": "code",
   "execution_count": 65,
   "id": "eae96e44",
   "metadata": {},
   "outputs": [
    {
     "data": {
      "text/html": [
       "<div>\n",
       "<style scoped>\n",
       "    .dataframe tbody tr th:only-of-type {\n",
       "        vertical-align: middle;\n",
       "    }\n",
       "\n",
       "    .dataframe tbody tr th {\n",
       "        vertical-align: top;\n",
       "    }\n",
       "\n",
       "    .dataframe thead th {\n",
       "        text-align: right;\n",
       "    }\n",
       "</style>\n",
       "<table border=\"1\" class=\"dataframe\">\n",
       "  <thead>\n",
       "    <tr style=\"text-align: right;\">\n",
       "      <th></th>\n",
       "      <th>Series Name</th>\n",
       "      <th>Location</th>\n",
       "      <th>Date</th>\n",
       "      <th>Time</th>\n",
       "    </tr>\n",
       "  </thead>\n",
       "  <tbody>\n",
       "    <tr>\n",
       "      <th>0</th>\n",
       "      <td>AUSTRALIA TOUR OF INDIA TEST SERIES 2022-23</td>\n",
       "      <td>Vidarbha Cricket Association Stadium, Nagpur</td>\n",
       "      <td>9 FEB 2023</td>\n",
       "      <td>9:30 AM IST</td>\n",
       "    </tr>\n",
       "    <tr>\n",
       "      <th>1</th>\n",
       "      <td>ICC WOMENS T20 WORLD CUP 2023</td>\n",
       "      <td>Newlands, Cape Town</td>\n",
       "      <td>12 FEB 2023</td>\n",
       "      <td>6:30 PM IST</td>\n",
       "    </tr>\n",
       "    <tr>\n",
       "      <th>2</th>\n",
       "      <td>ICC WOMENS T20 WORLD CUP 2023</td>\n",
       "      <td>Newlands, Cape Town</td>\n",
       "      <td>15 FEB 2023</td>\n",
       "      <td>6:30 PM IST</td>\n",
       "    </tr>\n",
       "    <tr>\n",
       "      <th>3</th>\n",
       "      <td>AUSTRALIA TOUR OF INDIA TEST SERIES 2022-23</td>\n",
       "      <td>Arun Jaitley Stadium, Delhi</td>\n",
       "      <td>17 FEB 2023</td>\n",
       "      <td>9:30 AM IST</td>\n",
       "    </tr>\n",
       "    <tr>\n",
       "      <th>4</th>\n",
       "      <td>ICC WOMENS T20 WORLD CUP 2023</td>\n",
       "      <td>St George's Park, Gqeberha</td>\n",
       "      <td>18 FEB 2023</td>\n",
       "      <td>6:30 PM IST</td>\n",
       "    </tr>\n",
       "    <tr>\n",
       "      <th>5</th>\n",
       "      <td>ICC WOMENS T20 WORLD CUP 2023</td>\n",
       "      <td>St George's Park, Gqeberha</td>\n",
       "      <td>20 FEB 2023</td>\n",
       "      <td>6:30 PM IST</td>\n",
       "    </tr>\n",
       "    <tr>\n",
       "      <th>6</th>\n",
       "      <td>AUSTRALIA TOUR OF INDIA TEST SERIES 2022-23</td>\n",
       "      <td>Himachal Pradesh Cricket Association Stadium,...</td>\n",
       "      <td>1 MAR 2023</td>\n",
       "      <td>9:30 AM IST</td>\n",
       "    </tr>\n",
       "    <tr>\n",
       "      <th>7</th>\n",
       "      <td>AUSTRALIA TOUR OF INDIA TEST SERIES 2022-23</td>\n",
       "      <td>Narendra Modi Stadium, Ahmedabad</td>\n",
       "      <td>9 MAR 2023</td>\n",
       "      <td>9:30 AM IST</td>\n",
       "    </tr>\n",
       "  </tbody>\n",
       "</table>\n",
       "</div>"
      ],
      "text/plain": [
       "                                   Series Name  \\\n",
       "0  AUSTRALIA TOUR OF INDIA TEST SERIES 2022-23   \n",
       "1                ICC WOMENS T20 WORLD CUP 2023   \n",
       "2                ICC WOMENS T20 WORLD CUP 2023   \n",
       "3  AUSTRALIA TOUR OF INDIA TEST SERIES 2022-23   \n",
       "4                ICC WOMENS T20 WORLD CUP 2023   \n",
       "5                ICC WOMENS T20 WORLD CUP 2023   \n",
       "6  AUSTRALIA TOUR OF INDIA TEST SERIES 2022-23   \n",
       "7  AUSTRALIA TOUR OF INDIA TEST SERIES 2022-23   \n",
       "\n",
       "                                            Location         Date         Time  \n",
       "0       Vidarbha Cricket Association Stadium, Nagpur   9 FEB 2023  9:30 AM IST  \n",
       "1                                Newlands, Cape Town  12 FEB 2023  6:30 PM IST  \n",
       "2                                Newlands, Cape Town  15 FEB 2023  6:30 PM IST  \n",
       "3                        Arun Jaitley Stadium, Delhi  17 FEB 2023  9:30 AM IST  \n",
       "4                         St George's Park, Gqeberha  18 FEB 2023  6:30 PM IST  \n",
       "5                         St George's Park, Gqeberha  20 FEB 2023  6:30 PM IST  \n",
       "6   Himachal Pradesh Cricket Association Stadium,...   1 MAR 2023  9:30 AM IST  \n",
       "7                   Narendra Modi Stadium, Ahmedabad   9 MAR 2023  9:30 AM IST  "
      ]
     },
     "execution_count": 65,
     "metadata": {},
     "output_type": "execute_result"
    }
   ],
   "source": [
    "df=pd.DataFrame({'Series Name': Series, 'Location': Place, 'Date': Date, 'Time': Time})\n",
    "                 \n",
    "df"
   ]
  },
  {
   "cell_type": "code",
   "execution_count": null,
   "id": "d5fe72d6",
   "metadata": {},
   "outputs": [],
   "source": []
  },
  {
   "cell_type": "code",
   "execution_count": null,
   "id": "f803bd31",
   "metadata": {},
   "outputs": [],
   "source": []
  }
 ],
 "metadata": {
  "kernelspec": {
   "display_name": "Python 3 (ipykernel)",
   "language": "python",
   "name": "python3"
  },
  "language_info": {
   "codemirror_mode": {
    "name": "ipython",
    "version": 3
   },
   "file_extension": ".py",
   "mimetype": "text/x-python",
   "name": "python",
   "nbconvert_exporter": "python",
   "pygments_lexer": "ipython3",
   "version": "3.9.13"
  }
 },
 "nbformat": 4,
 "nbformat_minor": 5
}
