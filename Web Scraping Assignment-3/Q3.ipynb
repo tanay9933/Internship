{
 "cells": [
  {
   "cell_type": "code",
   "execution_count": null,
   "id": "4f1f0704",
   "metadata": {},
   "outputs": [],
   "source": []
  },
  {
   "cell_type": "code",
   "execution_count": null,
   "id": "10a99d16",
   "metadata": {},
   "outputs": [],
   "source": []
  },
  {
   "cell_type": "code",
   "execution_count": 1,
   "id": "96f9a503",
   "metadata": {},
   "outputs": [
    {
     "name": "stdout",
     "output_type": "stream",
     "text": [
      "fruits: ['/images/branding/searchlogo/1x/googlelogo_desk_heirloom_color_150x55dp.gif', 'https://encrypted-tbn0.gstatic.com/images?q=tbn:ANd9GcSUoYZrOBiuhDQEVYeEORw7zrra9mMTtuxix2i91p3BIjbws0LphL257yJVndo&s', 'https://encrypted-tbn0.gstatic.com/images?q=tbn:ANd9GcQ1c1DAfgF3XONwSuKO3OrytUnolbKyE9ZoLSuQQCGb8udf05FY2C3bUobXqg&s', 'https://encrypted-tbn0.gstatic.com/images?q=tbn:ANd9GcQ86pCpQFnZQzJlSUCJ-i04qECrYBku6HdYZj-wObv4baRAki2NSYnimmzNpw&s', 'https://encrypted-tbn0.gstatic.com/images?q=tbn:ANd9GcQF0IKCRPcaDP2Bcqb5K2xNM_5e3JkYdAQOJVXHSGgeoAECwFctx0jvjV14ub4&s', 'https://encrypted-tbn0.gstatic.com/images?q=tbn:ANd9GcTTifgqC7e4QA3srbe0ZIbjQ7N52i8GGxDHtjtBNzjZoMlbk1PxY-uYTaAYMA&s', 'https://encrypted-tbn0.gstatic.com/images?q=tbn:ANd9GcSQ2edPW6ZEEqm8YVsZNbPSEoPKWn9Xyx8nJtRf0WXdcfzfy5NFItDPApJh-A&s', 'https://encrypted-tbn0.gstatic.com/images?q=tbn:ANd9GcR3BXHTy8--k103DtD5gs_tBqyEh9t5v3aOzFOdNZakQiiT-BNjMgXf2-J2iSg&s', 'https://encrypted-tbn0.gstatic.com/images?q=tbn:ANd9GcQvz-hWinXkiT2vM3ehExQ0UD0YZOsWc0bDD2tvNbhiypN8F2BBDjqRqoLXsw&s', 'https://encrypted-tbn0.gstatic.com/images?q=tbn:ANd9GcQe1g3jfUSRuCkpnU-lnWrQdrsCZe2zrOR8d4aM-MkUXmqtqeFLiVbvjm05t00&s']\n",
      "cars: ['/images/branding/searchlogo/1x/googlelogo_desk_heirloom_color_150x55dp.gif', 'https://encrypted-tbn0.gstatic.com/images?q=tbn:ANd9GcTWjmoLFs-4gvWfh8qpyR76rEtIK7He_6_PxHzC0sMl0xSvb55td-kx9Y0JsA&s', 'https://encrypted-tbn0.gstatic.com/images?q=tbn:ANd9GcRCQzVRncwG8d6t-1wAP5UeMsyg_EoJ3YEsuPdzILzsc7vQHQOpwBRj0sumMYI&s', 'https://encrypted-tbn0.gstatic.com/images?q=tbn:ANd9GcTE2jD948iiY0GXAPWq4BDwe8mL7sfuRBQAOBA5hLoxUgHc8Nj-NIrZXoVt9M8&s', 'https://encrypted-tbn0.gstatic.com/images?q=tbn:ANd9GcRJ50mmXEJgDRft0bHUEma6yW-avjcMUhBt-LRVEWpKqkGnZx5Tq7XKJ6MEljE&s', 'https://encrypted-tbn0.gstatic.com/images?q=tbn:ANd9GcTD4c8oV4q-5mrtkN6k8ExBi12E4ol8Ncep_CdRT16jG6swVno3YQwMY-zWMgs&s', 'https://encrypted-tbn0.gstatic.com/images?q=tbn:ANd9GcS80c4KzNMbIHGq-fDy4ptGv3rMy6GZ6EpIg53bI8Mq08Sm21I9PUm4hKCKbQ&s', 'https://encrypted-tbn0.gstatic.com/images?q=tbn:ANd9GcQDrOzXIHIKJMJW5qwcwJ-Vttm8NwFusuo85VU4Q0uNUjRLtPgOmqLFLY2JFx4&s', 'https://encrypted-tbn0.gstatic.com/images?q=tbn:ANd9GcSShLP9ovyUoFTLGfGzorMFLTuzhS50iLFC6PzQjwwrlvvCRVVx6LW2geKR0A&s', 'https://encrypted-tbn0.gstatic.com/images?q=tbn:ANd9GcS7sGfCQURvyJ6RQA0EbjtrFJHYhZwJ7aPLNOteQV1YBSh-J4ohDW66dJhA3w&s']\n",
      "Machine Learning: ['/images/branding/searchlogo/1x/googlelogo_desk_heirloom_color_150x55dp.gif', 'https://encrypted-tbn0.gstatic.com/images?q=tbn:ANd9GcR-tFCtY3LqV0lypBlmJ7-EkV96J9uzw8MGLagiUJrpKKLCruzXBztbUhhj65I&s', 'https://encrypted-tbn0.gstatic.com/images?q=tbn:ANd9GcSXGEUo4FiaE_219rZ6f2SIsr383FcH-0kdnf7roOv40hyYZixLP1lezxmIJ5A&s', 'https://encrypted-tbn0.gstatic.com/images?q=tbn:ANd9GcTqTejwUOe2J7RFYGPknF0zDYiS-JgZyzyKHhKqK0IoE2pwse-_NkBvLi0uDqY&s', 'https://encrypted-tbn0.gstatic.com/images?q=tbn:ANd9GcRIAy3jErR9pOKPqUuLUW3BHlWiEnSO4xLayNLCDh-KFawF2S38qgBcETDUyA&s', 'https://encrypted-tbn0.gstatic.com/images?q=tbn:ANd9GcRz3XjZBP5jVIiaExBESglMTaPoNA7z5W91Y053PS3lavzXV9ANhdB939gDr8s&s', 'https://encrypted-tbn0.gstatic.com/images?q=tbn:ANd9GcRa4vYBTsqU2CN8lblDXMFuaJ-GVmQLg68zrdyVvLIQY2LzGC6nyuySYR5vFhs&s', 'https://encrypted-tbn0.gstatic.com/images?q=tbn:ANd9GcSkUvL3j4ViVUvt47v06ZXnIsXiZAN-oRDNgwOC_8FtAM8CDGjOe2oE32gXWA&s', 'https://encrypted-tbn0.gstatic.com/images?q=tbn:ANd9GcSvNnJDFNZojfmNuwTia304glMR3P3596pVmmBo_MijAUj79cABa2w8M4_yUjU&s', 'https://encrypted-tbn0.gstatic.com/images?q=tbn:ANd9GcSXlqEUxGBk0PF0T1PSDyAtN42o275_7QjB5VUO13d5-CD22Lkqcajl88RDTRE&s']\n",
      "Guitar: ['/images/branding/searchlogo/1x/googlelogo_desk_heirloom_color_150x55dp.gif', 'https://encrypted-tbn0.gstatic.com/images?q=tbn:ANd9GcSraL_YFgmW8XP80H-pswh2J6d6ujXNAIO9p4pwar960WiK-t6addkQr6Rw97o&s', 'https://encrypted-tbn0.gstatic.com/images?q=tbn:ANd9GcQYlp6CusxHplp7xpTcCdpM6LbpkYq6CYq_ux54yMc5mq-FuEEeIrSWWHwqDQE&s', 'https://encrypted-tbn0.gstatic.com/images?q=tbn:ANd9GcQBdO11yY32ou9q4M_RHoBrK_ym6zjtJO0mobf9YpjOH0XPMg_WpvK-0yBXoS4&s', 'https://encrypted-tbn0.gstatic.com/images?q=tbn:ANd9GcQ7z-fniUM8fFnEP77KPlnB5_tpLHC0-cPeHUbNhN5mmEkkTadeutR8ds3ojwo&s', 'https://encrypted-tbn0.gstatic.com/images?q=tbn:ANd9GcTFmnlkcY8RmXUb-CRWJYs7ejWfupvUeMsJHkn96a7Gtb5-jsehLA6KW909ngg&s', 'https://encrypted-tbn0.gstatic.com/images?q=tbn:ANd9GcT85STlFSeQLNtMct0sULlCp4jbCaf_jFRXUsGFuzOEp6u2OCquGBHKHfBuVw&s', 'https://encrypted-tbn0.gstatic.com/images?q=tbn:ANd9GcQYs4bCyqybpQmSPg45IIw5zwjcGt3tyNZcp_mqgfJIc0reUWyae701QAk3Zuk&s', 'https://encrypted-tbn0.gstatic.com/images?q=tbn:ANd9GcT_2iibq58KSPpBu5ZXbJTjnF1UqpukpSdRpmKycwZHOnCglVm7KpGSNdjxIg&s', 'https://encrypted-tbn0.gstatic.com/images?q=tbn:ANd9GcRhIEwaLH8vSuuwI6HY2nxVKkI6CB6wSXA-3xbVN6yV_SDzC4CuUcIIhcAb2Gk&s']\n",
      "Cakes: ['/images/branding/searchlogo/1x/googlelogo_desk_heirloom_color_150x55dp.gif', 'https://encrypted-tbn0.gstatic.com/images?q=tbn:ANd9GcSS4LS65ZQFnCcGWCQ6YTosveLE556YgesnzqfMXjauGOFbnGdwVfr66AObOhI&s', 'https://encrypted-tbn0.gstatic.com/images?q=tbn:ANd9GcSMkdDqQYTk7_Z0FKsEDDN13qZn-i3RCk77igv1nixAakLA0BaKHFwGOgr51Hg&s', 'https://encrypted-tbn0.gstatic.com/images?q=tbn:ANd9GcQBam_ilaQJqQkkXI2ViEg4687Q9V6Fuml1HLFYu3Z0MiBmxgnkquDrJPWEeFc&s', 'https://encrypted-tbn0.gstatic.com/images?q=tbn:ANd9GcQDmwdeg5PVXSxAcn-ZyxOOaqf0do7lQGBLgVd4o_b-SIhnSLceKll2q1I2Bzw&s', 'https://encrypted-tbn0.gstatic.com/images?q=tbn:ANd9GcTEQzNboakYGobv3pApmBgOd5_MqSbEGvrdmJEZO6ROFvKZtQlPCzZC2ztRdg&s', 'https://encrypted-tbn0.gstatic.com/images?q=tbn:ANd9GcT_yfF2PYfKdq18HD066LIXCxQwbS_FFsqQ8xzzNWDiT06qEi4Fq1ZANWyoDqU&s', 'https://encrypted-tbn0.gstatic.com/images?q=tbn:ANd9GcQDjBDFv_UDLmBY3jn4UXuoukFIVMICqeyrPlhIXBt6ErsoLXsRku9UPgzq8A&s', 'https://encrypted-tbn0.gstatic.com/images?q=tbn:ANd9GcQ9CSoaTXhmk7VQtSnH24Euxk2wKSNp2GYc-B7ZPvObIZwzO4dEIzsAAcHYsg&s', 'https://encrypted-tbn0.gstatic.com/images?q=tbn:ANd9GcTaSF0pAg0T5U1-CmHsGSQsP3_TiTyA14vvNu9ncrD3RObfB8-Pc1xfJx7rDzA&s']\n"
     ]
    }
   ],
   "source": [
    "import requests\n",
    "from bs4 import BeautifulSoup\n",
    "\n",
    "def scrape_images(keyword):\n",
    "    # search the keyword on Google Images\n",
    "    response = requests.get(f\"https://www.google.com/search?q={keyword}&tbm=isch\")\n",
    "    soup = BeautifulSoup(response.text, \"html.parser\")\n",
    "\n",
    "    # extract the image URLs\n",
    "    image_elements = soup.find_all(\"img\")\n",
    "    image_urls = [img.get(\"src\") for img in image_elements]\n",
    "\n",
    "    # return the first 10 image URLs\n",
    "    return image_urls[:10]\n",
    "\n",
    "# scrape images for the given keywords\n",
    "keywords = [\"fruits\", \"cars\", \"Machine Learning\", \"Guitar\", \"Cakes\"]\n",
    "for keyword in keywords:\n",
    "    image_urls = scrape_images(keyword)\n",
    "    print(f\"{keyword}: {image_urls}\")"
   ]
  },
  {
   "cell_type": "code",
   "execution_count": null,
   "id": "d61e67b9",
   "metadata": {},
   "outputs": [],
   "source": []
  },
  {
   "cell_type": "code",
   "execution_count": null,
   "id": "5b441ce0",
   "metadata": {},
   "outputs": [],
   "source": []
  },
  {
   "cell_type": "code",
   "execution_count": null,
   "id": "4cdc19ab",
   "metadata": {},
   "outputs": [],
   "source": []
  },
  {
   "cell_type": "code",
   "execution_count": null,
   "id": "64c35110",
   "metadata": {},
   "outputs": [],
   "source": []
  },
  {
   "cell_type": "code",
   "execution_count": null,
   "id": "b7391df2",
   "metadata": {},
   "outputs": [],
   "source": []
  },
  {
   "cell_type": "code",
   "execution_count": null,
   "id": "92ff2e11",
   "metadata": {},
   "outputs": [],
   "source": []
  },
  {
   "cell_type": "code",
   "execution_count": null,
   "id": "d4d3d474",
   "metadata": {},
   "outputs": [],
   "source": []
  }
 ],
 "metadata": {
  "kernelspec": {
   "display_name": "Python 3 (ipykernel)",
   "language": "python",
   "name": "python3"
  },
  "language_info": {
   "codemirror_mode": {
    "name": "ipython",
    "version": 3
   },
   "file_extension": ".py",
   "mimetype": "text/x-python",
   "name": "python",
   "nbconvert_exporter": "python",
   "pygments_lexer": "ipython3",
   "version": "3.9.13"
  }
 },
 "nbformat": 4,
 "nbformat_minor": 5
}
